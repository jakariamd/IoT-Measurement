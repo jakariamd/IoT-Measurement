{
 "cells": [
  {
   "cell_type": "code",
   "execution_count": 1,
   "outputs": [],
   "source": [
    "# Inference method \n",
    "from transformers import pipeline\n",
    "\n",
    "\n",
    "first_party_collection = pipeline(model=\"jakariamd/opp_115_first_party_collection\")\n",
    "third_party_sharing = pipeline(model=\"jakariamd/opp_115_third_party_sharing\")\n",
    "data_retention = pipeline(model=\"jakariamd/opp_115_data_retention\")\n",
    "data_security = pipeline(model=\"jakariamd/opp_115_data_security\")\n",
    "international_audience = pipeline(model=\"jakariamd/opp_115_international_audience\")\n",
    "practice_not_covered = pipeline(model=\"jakariamd/opp_115_practice_not_covered\")\n",
    "do_not_track = pipeline(model=\"jakariamd/opp_115_do_not_track\")\n",
    "user_choice_control = pipeline(model=\"jakariamd/opp_115_user_choice_control\")\n",
    "policy_change = pipeline(model=\"jakariamd/opp_115_policy_change\")\n",
    "user_access = pipeline(model=\"jakariamd/opp_115_first_user_access\")"
   ],
   "metadata": {
    "collapsed": false,
    "ExecuteTime": {
     "end_time": "2024-02-29T23:51:39.386292900Z",
     "start_time": "2024-02-29T23:51:28.208281300Z"
    }
   }
  },
  {
   "cell_type": "code",
   "execution_count": 2,
   "outputs": [],
   "source": [
    "def analyze_privacy_policy(policy):\n",
    "    item_international_audience = 0\n",
    "\n",
    "    model_outcome = international_audience(policy)\n",
    "    for line in model_outcome:\n",
    "        if line['label'] != 'Other': item_international_audience +=1\n",
    "\n",
    "    return item_international_audience \n"
   ],
   "metadata": {
    "collapsed": false,
    "ExecuteTime": {
     "end_time": "2024-02-29T23:51:39.397600200Z",
     "start_time": "2024-02-29T23:51:39.391069700Z"
    }
   }
  },
  {
   "cell_type": "code",
   "execution_count": 3,
   "outputs": [],
   "source": [
    "import json\n",
    "\n",
    "FILE_SUMMERY = '../../MAPS Output/analysis_summery.json'\n",
    "\n",
    "def update_summery(domain, data):\n",
    "    # Read existing JSON data (if any)\n",
    "    existing_data = []\n",
    "    try:\n",
    "        with open(FILE_SUMMERY, 'r') as json_file:\n",
    "            existing_data = json.load(json_file)\n",
    "    except FileNotFoundError:\n",
    "        pass\n",
    "    # Append new data to existing data\n",
    "    existing_data[domain] = data\n",
    "\n",
    "    # Write the combined data back to the file\n",
    "    with open(FILE_SUMMERY, 'w') as json_file:\n",
    "        json.dump(existing_data, json_file, indent=4)"
   ],
   "metadata": {
    "collapsed": false,
    "ExecuteTime": {
     "end_time": "2024-02-29T23:51:39.397600200Z",
     "start_time": "2024-02-29T23:51:39.395598100Z"
    }
   }
  },
  {
   "cell_type": "code",
   "execution_count": 9,
   "outputs": [],
   "source": [
    "import pandas as pd\n",
    "\n",
    "# file location\n",
    "input_file = '../../Endpoint Mapping Data/Domain Data/v5_unique_domains.csv'\n",
    "\n",
    "cleaned_privacy_files = '../../MAPS Output/Cleaned Content/'\n",
    "\n",
    "\n",
    "remote_hostname = pd.read_csv(input_file)\n",
    "# todo testing by sampling \n",
    "remote_hostname=remote_hostname.sample(5, random_state=41)\n"
   ],
   "metadata": {
    "collapsed": false,
    "ExecuteTime": {
     "end_time": "2024-02-29T23:57:46.543204300Z",
     "start_time": "2024-02-29T23:57:46.535447800Z"
    }
   }
  },
  {
   "cell_type": "code",
   "execution_count": 10,
   "outputs": [],
   "source": [
    "import os\n",
    "from nltk.tokenize import sent_tokenize\n",
    "\n",
    "\n",
    "for domain in remote_hostname['domain']:\n",
    "    # read file \n",
    "    file_path = os.path.join(cleaned_privacy_files, domain+'.txt')\n",
    "    with open(file_path, 'r', encoding='utf-8') as file:\n",
    "        privacy_content = file.read()\n",
    "    \n",
    "    tokens = sent_tokenize(privacy_content)\n",
    "    result = analyze_privacy_policy(tokens)\n",
    "    # todo uncomment to save result\n",
    "    # update_summery(domain, {'inter_audience': result})"
   ],
   "metadata": {
    "collapsed": false,
    "ExecuteTime": {
     "end_time": "2024-02-29T23:58:07.608097300Z",
     "start_time": "2024-02-29T23:57:55.722908900Z"
    }
   }
  }
 ],
 "metadata": {
  "kernelspec": {
   "display_name": "Python 3",
   "language": "python",
   "name": "python3"
  },
  "language_info": {
   "codemirror_mode": {
    "name": "ipython",
    "version": 2
   },
   "file_extension": ".py",
   "mimetype": "text/x-python",
   "name": "python",
   "nbconvert_exporter": "python",
   "pygments_lexer": "ipython2",
   "version": "2.7.6"
  }
 },
 "nbformat": 4,
 "nbformat_minor": 0
}
