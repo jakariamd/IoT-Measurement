{
 "cells": [
  {
   "cell_type": "code",
   "execution_count": null,
   "outputs": [],
   "source": [
    "import pandas as pd\n",
    "from utils import google_search\n",
    "\n",
    "# file locations\n",
    "cleaned_flow_file = '../../Endpoint Mapping Data/Cleaned Flow/cleaned_flow_stat.csv'\n",
    "\n",
    "# read files\n",
    "clean_flow_stat = pd.read_csv(cleaned_flow_file)\n",
    "\n",
    "# find subsidiary organization names from vendor names\n",
    "\n",
    "gpt_clean_vendor = pd.Series(clean_flow_stat['gpt_clean_vendor'].unique())\n",
    "manual_labeled_vendor = pd.Series(clean_flow_stat['vendor_name'].str.lower().unique())\n",
    "smart_home_vendors = pd.concat([gpt_clean_vendor, manual_labeled_vendor], ignore_index=True).drop_duplicates(keep='first')\n",
    "\n",
    "\n",
    "# todo NOTE: we sample only 10 vendor names here, regular google search, use search API to get rid of rate error\n",
    "vendor_list = smart_home_vendors.sample(10)\n",
    "\n",
    "subsidiary_output = {}\n",
    "\n",
    "for vendor in vendor_list:\n",
    "    subsidiary = google_search(vendor + ' subsidiaries')\n",
    "    subsidiary_output[vendor] = subsidiary\n",
    "    \n",
    "print(subsidiary_output)\n",
    "\n",
    "# todo save to file \n",
    "# vendor_org_subsidiary_file = '../../Device Identification/Vendor Data/vendor_org_subsidiary.xlsx'\n",
    "# pd.DataFrame({'parent_company': subsidiary_output.keys(), 'subsidiaries': subsidiary_output.values()}).to_excel(vendor_org_subsidiary_file)"
   ],
   "metadata": {
    "collapsed": false
   }
  }
 ],
 "metadata": {
  "kernelspec": {
   "display_name": "Python 3",
   "language": "python",
   "name": "python3"
  },
  "language_info": {
   "codemirror_mode": {
    "name": "ipython",
    "version": 2
   },
   "file_extension": ".py",
   "mimetype": "text/x-python",
   "name": "python",
   "nbconvert_exporter": "python",
   "pygments_lexer": "ipython2",
   "version": "2.7.6"
  }
 },
 "nbformat": 4,
 "nbformat_minor": 0
}
