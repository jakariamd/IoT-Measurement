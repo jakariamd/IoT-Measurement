{
 "cells": [
  {
   "cell_type": "code",
   "execution_count": null,
   "outputs": [],
   "source": [
    "# todo NOTE: this script does not reproduce original result since we removed device IDs\n",
    "\n",
    "import pandas as pd\n",
    "import numpy as np\n",
    "\n",
    "## read generic category mapped files\n",
    "file_manual_identified_devices = '../../Device Identification/Device Category Mapping/manual_device_category_merged.csv'\n",
    "file_gpt_identified_devices = '../../Device Identification/Device Category Mapping/gpt_device_id_generic_category.csv'\n",
    "file_target_IoT_device = '../../Device Identification/IoT_devices_v5.csv'\n",
    "\n",
    "combined_iot_devices = pd.read_csv(file_target_IoT_device)[['device_id']]\n",
    "manual_device_category_merged = pd.read_csv(file_manual_identified_devices).rename(\n",
    "    columns={'generic_category':'man_generic_category',\n",
    "             'vendor_name':'man_vendor_name',\n",
    "             'device_category':'man_device_category'})\n",
    "gpt_device_category_merged = pd.read_csv(file_gpt_identified_devices)[['device_id',\n",
    "                                                    'gpt_clean_vendor',\n",
    "                                                    'gpt_clean_type',\n",
    "                                                    'generic_category']].rename(\n",
    "    columns={'generic_category':'gpt_generic_category'})\n",
    "\n",
    "# todo NOTE: the following line cause runtime/space error since we removed device IDS \n",
    "combined_iot_devices = pd.merge(combined_iot_devices, manual_device_category_merged, on='device_id', how='left')\n",
    "combined_iot_devices = pd.merge(combined_iot_devices, gpt_device_category_merged, on='device_id', how='left')\n",
    "combined_iot_devices.replace(np.NAN, '', inplace=True)\n",
    "\n",
    "\n",
    "combined_iot_devices['product'] = combined_iot_devices.apply(lambda row: \n",
    "                                                             row.man_vendor_name.lower()+ ':'+ row.man_device_category.lower() if len(row.man_vendor_name.lower()+ ':'+ row.man_device_category.lower())>2 else row.gpt_clean_vendor.lower()+ ':'+ row.gpt_clean_type.lower(), axis=1)\n",
    "\n",
    "print(combined_iot_devices['product'].nunique())"
   ],
   "metadata": {
    "collapsed": false
   }
  }
 ],
 "metadata": {
  "kernelspec": {
   "display_name": "Python 3 (ipykernel)",
   "language": "python",
   "name": "python3"
  },
  "language_info": {
   "codemirror_mode": {
    "name": "ipython",
    "version": 3
   },
   "file_extension": ".py",
   "mimetype": "text/x-python",
   "name": "python",
   "nbconvert_exporter": "python",
   "pygments_lexer": "ipython3",
   "version": "3.8.8"
  }
 },
 "nbformat": 4,
 "nbformat_minor": 1
}
