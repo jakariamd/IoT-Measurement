{
 "cells": [
  {
   "cell_type": "markdown",
   "source": [
    "This script maps device vendors and the remote endpoint organization \n",
    "use iot-py38 interpreter to run this script"
   ],
   "metadata": {
    "collapsed": false
   },
   "id": "70997d0e10774c90"
  },
  {
   "cell_type": "code",
   "execution_count": null,
   "id": "2d71db73",
   "metadata": {},
   "outputs": [],
   "source": [
    "import numpy as np\n",
    "import pandas as pd\n",
    "from utils import get_only_sld, unique_domain2org, unique_org_name\n",
    "from utils import get_sld, get_tld_plus_1, get_device_connections, print_statistics, mapping_first_party\n",
    "\n",
    "# input/output file locations\n",
    "file_cleaned_flow = '../../Endpoint Mapping Data/Cleaned Flow/cleaned_flow_stat.csv'\n",
    "file_combined_domain2org = '../../Endpoint Mapping Data/Domain Data/First Party Mapping/domain2org_all_possible_sources.csv'\n",
    "file_vendor_orgs = '../../Device Identification/Vendor Data/vendor_org_subsidiary.xlsx'\n",
    "output_file_location = '../../Endpoint Mapping Data/Domain Data/first_party_mapping.csv'\n",
    "\n",
    "# load cleaned network flows\n",
    "cleaned_flow = pd.read_csv(file_cleaned_flow)\n",
    "\n",
    "# load and clean domain to organization information\n",
    "domain2org = pd.read_csv(file_combined_domain2org)\n",
    "domain2org = domain2org.replace(np.nan, '')\n",
    "domain2org = domain2org.drop_duplicates(subset=['remote_hostname'])\n",
    "\n",
    "## load and clean parent subsidiary information of organizations\n",
    "vendor_orgs = pd.read_excel(file_vendor_orgs)\n",
    "vendor_orgs.drop(['device_name', 'comment'], axis=1, inplace=True)\n",
    "\n",
    "\n",
    "# Combine organization information for a domain from different sources \n",
    "domain2org['combined_org'] = domain2org.apply( lambda row: unique_domain2org(row.remote_hostname, row.python_whois_org, row.bash_whois_org, row.bash_openssl_org, row.copyright_org, row.netify_org, row.xclusive_org), axis=1)\n",
    "\n",
    "# find related organization considering parent-subsidiary relationship \n",
    "vendor_orgs['related_orgs'] = vendor_orgs.apply(\n",
    "    lambda row: unique_org_name(row.device_vendor , row.vendor_organization, row.parent_company, row.subsidiaries), axis=1)\n",
    "\n",
    "\n",
    "## First Party Mapping\n",
    "def mapping_parties(vendor_name, remote_hostname):\n",
    "    try: \n",
    "        party_type = mapping_first_party(vendor_orgs['related_orgs'][vendor_orgs['device_vendor'] == vendor_name].item(),\n",
    "                    domain2org['combined_org'][domain2org['remote_hostname'] == remote_hostname].item())\n",
    "    except:\n",
    "        party_type = -1\n",
    "    \n",
    "    return party_type\n",
    "\n",
    "\n",
    "# find vendor name of a device,\n",
    "# either from manual identification or from gpt identification \n",
    "cleaned_flow['super_vendor'] = cleaned_flow.apply(lambda row: row.vendor_name.lower() if row.vendor_name==row.vendor_name else row.gpt_clean_vendor, axis=1)\n",
    "\n",
    "# get vendor and domain pair\n",
    "super_vendor_domain = cleaned_flow[['super_vendor', 'domain']].drop_duplicates()\n",
    "\n",
    "\n",
    "# todo remove the following line to map all the domain vendor pair \n",
    "super_vendor_domain = super_vendor_domain.sample(100, random_state=42)\n",
    "\n",
    "\n",
    "# map vendor and domain pair \n",
    "super_vendor_domain['first_party'] = super_vendor_domain.apply(\n",
    "    lambda row: mapping_parties(row.super_vendor, row.domain), axis=1)\n",
    "\n",
    "# todo uncomment to save results to file \n",
    "# super_vendor_domain.to_csv(output_file_location, index=False)"
   ]
  }
 ],
 "metadata": {
  "kernelspec": {
   "display_name": "Python 3 (ipykernel)",
   "language": "python",
   "name": "python3"
  },
  "language_info": {
   "codemirror_mode": {
    "name": "ipython",
    "version": 3
   },
   "file_extension": ".py",
   "mimetype": "text/x-python",
   "name": "python",
   "nbconvert_exporter": "python",
   "pygments_lexer": "ipython3",
   "version": "3.8.8"
  }
 },
 "nbformat": 4,
 "nbformat_minor": 5
}
