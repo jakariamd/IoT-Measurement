{
 "cells": [
  {
   "cell_type": "code",
   "execution_count": null,
   "metadata": {
    "collapsed": true
   },
   "outputs": [],
   "source": [
    "import pandas as pd\n",
    "from utils import check_privacy_mask\n",
    "\n",
    "# input/output file locations\n",
    "privacy_mask_file = \"../../../Endpoint Mapping Data/Domain Data/First Party Mapping/Privacy Masks Org Names.csv\"\n",
    "\n",
    "input_file = \"../../../Endpoint Mapping Data/Domain Data/First Party Mapping/bash_whois_domain2org.csv\"\n",
    "\n",
    "output_file = \"../../../Endpoint Mapping Data/Domain Data/First Party Mapping/cleaned_bash_whois_domain2org.csv\"\n",
    "\n",
    "# read files\n",
    "privacy_masks = pd.read_csv(privacy_mask_file, names=['masks'])\n",
    "domain_to_org = pd.read_csv(input_file, header=None, names=['domain', 'org', 'org2'])\n",
    "\n",
    "# process file\n",
    "domain_to_org['org'] = domain_to_org['org'] +', '+ domain_to_org['org2']\n",
    "domain_to_org.drop(columns=['org2'], inplace=True)\n",
    "domain_to_org['cleaned_org'] = domain_to_org.apply(lambda row: None if check_privacy_mask(row.org, privacy_masks)\n",
    "else row.org, axis=1)\n",
    "\n",
    "# TODO save file\n",
    "# domain_to_org.to_csv(output_file, index=False)\n",
    "\n",
    "domain_to_org"
   ]
  }
 ],
 "metadata": {
  "kernelspec": {
   "display_name": "Python 3",
   "language": "python",
   "name": "python3"
  },
  "language_info": {
   "codemirror_mode": {
    "name": "ipython",
    "version": 2
   },
   "file_extension": ".py",
   "mimetype": "text/x-python",
   "name": "python",
   "nbconvert_exporter": "python",
   "pygments_lexer": "ipython2",
   "version": "2.7.6"
  }
 },
 "nbformat": 4,
 "nbformat_minor": 0
}
