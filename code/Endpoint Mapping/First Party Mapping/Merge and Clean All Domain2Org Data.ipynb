{
 "cells": [
  {
   "cell_type": "code",
   "execution_count": null,
   "outputs": [],
   "source": [
    "import numpy as np\n",
    "import pandas as pd"
   ],
   "metadata": {
    "collapsed": false
   },
   "id": "ea3831e57fa611f1"
  },
  {
   "cell_type": "code",
   "execution_count": null,
   "id": "06ce195e",
   "metadata": {},
   "outputs": [],
   "source": [
    "##Load and Clean whois result by python script \n",
    "file_python_whois = \"../../../Endpoint Mapping Data/Domain Data/First Party Mapping/cleaned_python_whois_domain2org.csv\"\n",
    "\n",
    "python_whois = pd.read_csv(file_python_whois)\n",
    "python_whois = python_whois.drop(['orgs'], axis=1)\n",
    "python_whois = python_whois.replace(np.nan, '')\n",
    "python_whois.rename(columns={\"sld\": \"remote_hostname\", \"cleaned_orgs\": \"python_whois_org\"}, inplace=True)\n",
    "python_whois"
   ]
  },
  {
   "cell_type": "code",
   "execution_count": null,
   "id": "7fd6d476",
   "metadata": {},
   "outputs": [],
   "source": [
    "##Load and Clean whois result by bash script \n",
    "file_bash_whois = \"../../../Endpoint Mapping Data/Domain Data/First Party Mapping/cleaned_bash_whois_domain2org.csv\"\n",
    "\n",
    "bash_whois = pd.read_csv(file_bash_whois)\n",
    "bash_whois = bash_whois.drop(['orgs'], axis=1)\n",
    "bash_whois = bash_whois.replace(np.nan, '')\n",
    "bash_whois.rename(columns={\"sld\": \"remote_hostname\", \"cleaned_orgs\": \"bash_whois_org\"}, inplace=True)\n",
    "bash_whois"
   ]
  },
  {
   "cell_type": "code",
   "execution_count": null,
   "id": "710b7773",
   "metadata": {},
   "outputs": [],
   "source": [
    "##Load and Clean tls certificate result  \n",
    "file_bash_openssl = \"../../../Endpoint Mapping Data/Domain Data/First Party Mapping/bash_openssl_domain2org.csv\"\n",
    "\n",
    "bash_openssl = pd.read_csv(file_bash_openssl)\n",
    "bash_openssl = bash_openssl.replace('  ', '')\n",
    "bash_openssl.rename(columns={\"org\": \"bash_openssl_org\"}, inplace=True)\n",
    "bash_openssl"
   ]
  },
  {
   "cell_type": "code",
   "execution_count": null,
   "id": "b5a16a77",
   "metadata": {},
   "outputs": [],
   "source": [
    "##Load copyright result\n",
    "file_copyright_scrawler = \"../../../Endpoint Mapping Data/Domain Data/First Party Mapping/selenium_copyright_crawler_domain2org.csv\"\n",
    "\n",
    "copyright_scrawler  = pd.read_csv(file_copyright_scrawler)\n",
    "copyright_scrawler = copyright_scrawler.drop(['copyright_first_index', 'copyright_last_index'], axis=1)\n",
    "copyright_scrawler.rename(columns={'copyright_default': 'copyright_org'}, inplace=True)\n",
    "copyright_scrawler"
   ]
  },
  {
   "cell_type": "code",
   "execution_count": null,
   "id": "278cd651",
   "metadata": {},
   "outputs": [],
   "source": [
    "##Load web scrapping result\n",
    "file_web_scrapping = \"../../../Endpoint Mapping Data/Domain Data/First Party Mapping/web_scrapping_result.csv\"\n",
    "\n",
    "web_scrapping = pd.read_csv(file_web_scrapping)\n",
    "web_scrapping.rename(columns={'orgs': 'webpage_org'}, inplace=True)\n",
    "web_scrapping"
   ]
  },
  {
   "cell_type": "code",
   "execution_count": null,
   "id": "3fac7afa",
   "metadata": {},
   "outputs": [],
   "source": [
    "##Load exclusive domains\n",
    "file_exclusive_domains = \"../../../Endpoint Mapping Data/Domain Data/First Party Mapping/exclusive_domain_filtered.xlsx\"\n",
    "\n",
    "exclusive_domains = pd.read_excel(file_exclusive_domains)\n",
    "exclusive_domains.rename(columns={\"vendor\": \"xclusive_org\"}, inplace=True)\n",
    "exclusive_domains = exclusive_domains[['remote_hostname', 'xclusive_org']]\n",
    "exclusive_domains"
   ]
  },
  {
   "cell_type": "code",
   "execution_count": null,
   "id": "103925ee",
   "metadata": {},
   "outputs": [],
   "source": [
    "##Load data from Netify.ai\n",
    "file_netify_result = \"../../../Endpoint Mapping Data/Domain Data/First Party Mapping/netify_search_domain2org.csv\"\n",
    "\n",
    "netify_result = pd.read_csv(file_netify_result)\n",
    "netify_result.rename(columns={\"org_name\": \"netify_org\"}, inplace=True)\n",
    "netify_result['netify_org'] = netify_result['netify_org'].str.split(' ').str[0]\n",
    "netify_result.drop(labels=['service_name', 'service_description'], axis=1, inplace=True)\n",
    "netify_result"
   ]
  },
  {
   "cell_type": "code",
   "execution_count": null,
   "outputs": [],
   "source": [
    "## load unique remote hostnames\n",
    "file_remote_hostnames = '../../../Endpoint Mapping Data/Domain Data/v5_unique_domains.csv'\n",
    "\n",
    "remote_hostnames = pd.read_csv(file_remote_hostnames)\n",
    "remote_hostnames.rename(columns={\"domain\": \"remote_hostname\"}, inplace=True)\n",
    "remote_hostnames"
   ],
   "metadata": {
    "collapsed": false
   },
   "id": "c8c78a578e94da6"
  },
  {
   "cell_type": "code",
   "execution_count": null,
   "id": "f6964bb6",
   "metadata": {},
   "outputs": [],
   "source": [
    "## Merge all results\n",
    "domain2org = pd.merge(remote_hostnames, python_whois, how='left',on=\"remote_hostname\")\n",
    "domain2org = pd.merge(domain2org, bash_whois, how='left',on=\"remote_hostname\")\n",
    "domain2org = pd.merge(domain2org, bash_openssl, how='left',on=\"remote_hostname\")\n",
    "domain2org = pd.merge(domain2org, copyright_scrawler, how='left',on=\"remote_hostname\")\n",
    "domain2org = pd.merge(domain2org, web_scrapping, how='left',on=\"remote_hostname\")\n",
    "domain2org = pd.merge(domain2org, exclusive_domains, how='left', on=\"remote_hostname\")\n",
    "domain2org = pd.merge(domain2org, netify_result, how='left', on=\"remote_hostname\")\n",
    "\n",
    "domain2org = domain2org.drop_duplicates()"
   ]
  },
  {
   "cell_type": "code",
   "execution_count": null,
   "id": "b2ee80c5",
   "metadata": {},
   "outputs": [],
   "source": [
    "# save combined information\n",
    "file_combined_domain2org = '../../../Endpoint Mapping Data/Domain Data/First Party Mapping/domain2org_all_possible_sources.csv'\n",
    "\n",
    "# todo uncomment the following line to save result in file \n",
    "# domain2org.to_csv(file_combined_domain2org, index=False)\n",
    "\n",
    "domain2org"
   ]
  }
 ],
 "metadata": {
  "kernelspec": {
   "display_name": "Python 3 (ipykernel)",
   "language": "python",
   "name": "python3"
  },
  "language_info": {
   "codemirror_mode": {
    "name": "ipython",
    "version": 3
   },
   "file_extension": ".py",
   "mimetype": "text/x-python",
   "name": "python",
   "nbconvert_exporter": "python",
   "pygments_lexer": "ipython3",
   "version": "3.8.8"
  }
 },
 "nbformat": 4,
 "nbformat_minor": 5
}
