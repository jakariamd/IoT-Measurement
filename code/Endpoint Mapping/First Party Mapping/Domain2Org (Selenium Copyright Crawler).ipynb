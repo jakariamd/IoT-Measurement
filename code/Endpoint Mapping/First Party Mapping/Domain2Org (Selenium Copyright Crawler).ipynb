{
 "cells": [
  {
   "cell_type": "code",
   "execution_count": null,
   "id": "f8f0deb6",
   "metadata": {},
   "outputs": [],
   "source": [
    "import pandas as pd\n",
    "from utils import Copyright_Crawler\n",
    "\n",
    "# This Notebook is created to Scrap the copyright information from the website/webpage of a domain.\n",
    "# file locations\n",
    "input_file = '../../../Endpoint Mapping Data/Domain Data/v5_unique_domains.csv'\n",
    "\n",
    "output_file = '../../../Endpoint Mapping Data/Domain Data/First Party Mapping/selenium_copyright_crawler_domain2org.csv'\n",
    "\n",
    "remote_hostname = pd.read_csv(input_file)\n",
    "\n",
    "# TODO comment out the following line to find organization names for all domains in the file \n",
    "remote_hostname = remote_hostname.sample(5, random_state=40)\n",
    "\n",
    "\n",
    "frame = []\n",
    "number=0\n",
    "for url in remote_hostname['domain']:\n",
    "    number=number+1\n",
    "    print(number, '.', url, end = '')\n",
    "    copyright_first_index, copyright_last_index, copyright_default = Copyright_Crawler(domain=url).run()\n",
    "    print(copyright_default)\n",
    "    frame.append([url, copyright_first_index, copyright_last_index, copyright_default])\n",
    "    \n",
    "df = pd.DataFrame(frame, columns =['domain', 'copyright_first_index', 'copyright_last_index', 'copyright_default']) \n",
    "\n",
    "#save to file \n",
    "# df.to_csv(output_file, index=False)"
   ]
  }
 ],
 "metadata": {
  "kernelspec": {
   "display_name": "Python 3 (ipykernel)",
   "language": "python",
   "name": "python3"
  },
  "language_info": {
   "codemirror_mode": {
    "name": "ipython",
    "version": 3
   },
   "file_extension": ".py",
   "mimetype": "text/x-python",
   "name": "python",
   "nbconvert_exporter": "python",
   "pygments_lexer": "ipython3",
   "version": "3.8.8"
  }
 },
 "nbformat": 4,
 "nbformat_minor": 5
}
