{
 "cells": [
  {
   "cell_type": "code",
   "execution_count": 1,
   "outputs": [],
   "source": [
    "import pandas as pd\n",
    "\n",
    "# file locations\n",
    "cleaned_flow_file = '../../../Endpoint Mapping Data/Cleaned Flow/cleaned_flow_stat.csv'\n",
    "domain_file = '../../../Endpoint Mapping Data/Domain Data/v5_unique_domains.csv'\n",
    "output_file_location = '../../../Endpoint Mapping Data/Domain Data/First Party Mapping/new_exclusive_domains.csv'\n",
    "\n",
    "# read files\n",
    "clean_flow_stat = pd.read_csv(cleaned_flow_file)\n",
    "domains_list = pd.read_csv(domain_file)\n",
    "\n",
    "# TODO uncomment/comment the following line to check exclusive domains for all domains\n",
    "# domains_list = domains_list.sample(100)\n",
    "\n",
    "frame = []\n",
    "for domain in domains_list['domain'].unique():\n",
    "    vendor_list = clean_flow_stat[clean_flow_stat['domain']==domain]['vendor_name'].unique()\n",
    "    device_list = clean_flow_stat[clean_flow_stat['domain']==domain]['device_id'].unique()\n",
    "    if (len(vendor_list)==1) and (len(device_list)>3):\n",
    "        #print(\"Exclusive Found\", vendor_list[0], domain)\n",
    "        frame.append([vendor_list[0], domain])\n",
    "\n",
    "exclusive_domains = pd.DataFrame(frame, columns =['vendor', 'domain'])\n",
    "\n",
    "# TODO save in file\n",
    "#exclusive_domains.to_csv(output_file_location, index=False)\n",
    "\n",
    "exclusive_domains"
   ],
   "metadata": {
    "collapsed": false,
    "ExecuteTime": {
     "end_time": "2024-02-27T21:50:55.301284600Z",
     "start_time": "2024-02-27T21:46:57.561994200Z"
    }
   }
  }
 ],
 "metadata": {
  "kernelspec": {
   "display_name": "Python 3",
   "language": "python",
   "name": "python3"
  },
  "language_info": {
   "codemirror_mode": {
    "name": "ipython",
    "version": 2
   },
   "file_extension": ".py",
   "mimetype": "text/x-python",
   "name": "python",
   "nbconvert_exporter": "python",
   "pygments_lexer": "ipython2",
   "version": "2.7.6"
  }
 },
 "nbformat": 4,
 "nbformat_minor": 0
}
