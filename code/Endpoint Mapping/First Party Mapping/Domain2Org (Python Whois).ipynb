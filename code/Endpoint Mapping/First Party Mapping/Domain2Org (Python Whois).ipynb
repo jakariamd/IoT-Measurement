{
 "cells": [
  {
   "cell_type": "code",
   "execution_count": null,
   "metadata": {
    "collapsed": true
   },
   "outputs": [],
   "source": [
    "import pandas as pd\n",
    "from utils import get_org_python_whois, clean_multiple_org, check_privacy_mask\n",
    "\n",
    "# file locations\n",
    "privacy_mask_file = \"../../../Endpoint Mapping Data/Domain Data/First Party Mapping/Privacy Masks Org Names.csv\"\n",
    "\n",
    "input_file = '../../../Endpoint Mapping Data/Domain Data/v5_unique_domains.csv'\n",
    "\n",
    "output_file = \"../../../Endpoint Mapping Data/Domain Data/First Party Mapping/cleaned_python_whois_domain2org.csv\"\n",
    "\n",
    "# read files\n",
    "privacy_masks = pd.read_csv(privacy_mask_file, names=['masks'])\n",
    "domain_to_org = pd.read_csv(input_file)\n",
    "\n",
    "# TODO remove the following line to find organization names for all domains in the file \n",
    "domain_to_org = domain_to_org.sample(10) \n",
    "\n",
    "# get organization name from python whois\n",
    "# clean multiple organization names\n",
    "# clean privacy masks\n",
    "domain_to_org['orgs'] = domain_to_org.apply(lambda row: get_org_python_whois(row.domain), axis=1)\n",
    "\n",
    "domain_to_org['orgs'] = domain_to_org.apply(lambda row: clean_multiple_org(row.orgs), axis=1)\n",
    "\n",
    "domain_to_org['cleaned_orgs'] = domain_to_org.apply(lambda row: None if check_privacy_mask(row.orgs, privacy_masks) else row.orgs, axis=1)\n",
    "\n",
    "\n",
    "# TODO save results in file\n",
    "# domain_to_org.to_csv(output_file, index=False)\n",
    "\n",
    "# show results \n",
    "domain_to_org.head(10)"
   ]
  }
 ],
 "metadata": {
  "kernelspec": {
   "display_name": "Python 3",
   "language": "python",
   "name": "python3"
  },
  "language_info": {
   "codemirror_mode": {
    "name": "ipython",
    "version": 2
   },
   "file_extension": ".py",
   "mimetype": "text/x-python",
   "name": "python",
   "nbconvert_exporter": "python",
   "pygments_lexer": "ipython2",
   "version": "2.7.6"
  }
 },
 "nbformat": 4,
 "nbformat_minor": 0
}
