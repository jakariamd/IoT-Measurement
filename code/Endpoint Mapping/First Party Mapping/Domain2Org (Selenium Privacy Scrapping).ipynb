{
 "cells": [
  {
   "cell_type": "code",
   "execution_count": null,
   "id": "d73e5800",
   "metadata": {
    "slideshow": {
     "slide_type": "-"
    }
   },
   "outputs": [],
   "source": [
    "import pandas as pd\n",
    "from utils import Crawler, Scraper\n",
    "\n",
    "# define input/output file locations \n",
    "input_file = '../../../Endpoint Mapping Data/Domain Data/v5_unique_domains.csv'\n",
    "\n",
    "output_file = '../../../Endpoint Mapping Data/Domain Data/First Party Mapping/web_scrapping_result.csv'\n",
    "\n",
    "remote_hostname = pd.read_csv(input_file)\n",
    "\n",
    "# TODO comment out the following line to find organization names for all domains in the file \n",
    "remote_hostname = remote_hostname.sample(5, random_state=22)\n",
    "\n",
    "frame = []\n",
    "number = 0\n",
    "for url in remote_hostname['domain']:\n",
    "    number = number + 1\n",
    "    print(number, 'crawling: ', url)\n",
    "    urls, language = Crawler(domain=url).run()   \n",
    "    orgs = Scraper(urls, language).run()    \n",
    "    frame.append([url, orgs])\n",
    "\n",
    "df = pd.DataFrame(frame, columns =['remote_hostname', 'orgs']) \n",
    "\n",
    "# save results to file \n",
    "# df.to_csv(output_file, index=False)\n",
    "df"
   ]
  }
 ],
 "metadata": {
  "kernelspec": {
   "display_name": "Python 3 (ipykernel)",
   "language": "python",
   "name": "python3"
  },
  "language_info": {
   "codemirror_mode": {
    "name": "ipython",
    "version": 3
   },
   "file_extension": ".py",
   "mimetype": "text/x-python",
   "name": "python",
   "nbconvert_exporter": "python",
   "pygments_lexer": "ipython3",
   "version": "3.8.8"
  }
 },
 "nbformat": 4,
 "nbformat_minor": 5
}
