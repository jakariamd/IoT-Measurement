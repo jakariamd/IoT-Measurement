{
 "cells": [
  {
   "cell_type": "code",
   "execution_count": null,
   "metadata": {
    "collapsed": true
   },
   "outputs": [],
   "source": [
    "import pandas as pd\n",
    "from utils import netify_search\n",
    "\n",
    "# file locations\n",
    "input_file = '../../../Endpoint Mapping Data/Domain Data/v5_unique_domains.csv'\n",
    "\n",
    "output_file = '../../../Endpoint Mapping Data/Domain Data/First Party Mapping/netify_search_domain2org.csv'\n",
    "\n",
    "# read file\n",
    "remote_hostname = pd.read_csv(input_file)\n",
    "\n",
    "# TODO running script for subset of domain: remove the following line\n",
    "remote_hostname = remote_hostname.sample(20)\n",
    "\n",
    "netify_result = {}\n",
    "for url in remote_hostname['domain']:\n",
    "    results = netify_search(url)\n",
    "    netify_result[url] = results\n",
    "    print('Crawled: ', url, \" \", results)\n",
    "\n",
    "\n",
    "result_dictionary = {}\n",
    "\n",
    "for key in netify_result:\n",
    "    domain = key\n",
    "    try:\n",
    "        org_name = netify_result[key][0]\n",
    "        service_name = netify_result[key][1]\n",
    "        service_description = netify_result[key][2]\n",
    "    except:\n",
    "        org_name = None\n",
    "        service_name = None\n",
    "        service_description = None\n",
    "\n",
    "    result_dictionary[domain] = {'org_name': org_name, 'service_name': service_name, 'service_description': service_description}\n",
    "\n",
    "# save results\n",
    "netify_df = pd.DataFrame(result_dictionary)\n",
    "netify_df = netify_df.transpose()\n",
    "\n",
    "# save to file \n",
    "# netify_df.to_csv(output_file)\n",
    "netify_df"
   ]
  }
 ],
 "metadata": {
  "kernelspec": {
   "display_name": "Python 3",
   "language": "python",
   "name": "python3"
  },
  "language_info": {
   "codemirror_mode": {
    "name": "ipython",
    "version": 2
   },
   "file_extension": ".py",
   "mimetype": "text/x-python",
   "name": "python",
   "nbconvert_exporter": "python",
   "pygments_lexer": "ipython2",
   "version": "2.7.6"
  }
 },
 "nbformat": 4,
 "nbformat_minor": 0
}
