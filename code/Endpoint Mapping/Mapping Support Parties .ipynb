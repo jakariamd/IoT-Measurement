{
 "cells": [
  {
   "cell_type": "markdown",
   "source": [
    "## Support Party Mapping\n",
    "Refer Section 5.2"
   ],
   "metadata": {
    "collapsed": false
   },
   "id": "9bdddaad6d85279c"
  },
  {
   "cell_type": "code",
   "execution_count": 1,
   "id": "f38ed626",
   "metadata": {
    "ExecuteTime": {
     "end_time": "2024-02-29T06:02:17.950652Z",
     "start_time": "2024-02-29T06:02:17.098533600Z"
    }
   },
   "outputs": [],
   "source": [
    "import pandas as pd\n",
    "\n",
    "# input file locations \n",
    "file_first_party_mapping = '../../Endpoint Mapping Data/Domain Data/first_party_mapping.csv'\n",
    "file_serp_nmf_results = '../../Endpoint Mapping Data/Domain Data/Support Party Mapping/SERP_NMF_RESULTS.csv'\n",
    "file_netify_support = '../../Endpoint Mapping Data/Domain Data/Support Party Mapping/Netify/netify_support_party.csv'\n",
    "# output file location \n",
    "file_all_party_mapping = '../../Endpoint Mapping Data/Domain Data/all_party_mapping.csv'\n",
    "\n",
    "# load first-party mappings\n",
    "# we will ignore first-party vendor domain pair \n",
    "super_vendor_domain = pd.read_csv(file_first_party_mapping)\n",
    "\n",
    "# load topic model to extract service type provided by each domain\n",
    "# and drop unnecessary columns \n",
    "domain_labeling = pd.read_csv(file_serp_nmf_results)\n",
    "domain_labeling = domain_labeling.drop([\"text\", 'text_google', 'text_bing', 'token'], axis=1)\n",
    "\n",
    "# load service type collected from netify.ai\n",
    "support_parties_from_netify = pd.read_csv(file_netify_support)\n",
    "support_parties_from_netify.drop('org_name', axis=1, inplace=True)\n",
    "support_parties_from_netify[\"netify\"] = 2\n",
    "support_parties_from_netify.rename(columns={\"remote_hostname\": \"domain\"}, inplace=True)\n",
    "\n",
    "# merge all dataframe based on domain \n",
    "df_merged = pd.merge(super_vendor_domain, domain_labeling, on=['domain'], how='left')\n",
    "df_merged = pd.merge(df_merged, support_parties_from_netify, on=['domain'], how='left')\n",
    "\n",
    "\n",
    "# Please refer the cluster text file to find the cluster labels\n",
    "# TF-IDF\n",
    "# 8: cdn/cloud\n",
    "# 12: iot/cloud service\n",
    "# 14: iot platforms\n",
    "\n",
    "# Counting\n",
    "# 4: smart home/IoT\n",
    "# 5: cdn/cloud\n",
    "# 15: cloud service/iot\n",
    "\n",
    "\n",
    "def support_party(label, label2, netify):\n",
    "    if netify==2 or ((label==8 or label==12 or label==14) and (label2==4 or label2==5 or label2==15)) :\n",
    "        return 2\n",
    "    return 3\n",
    "\n",
    "# map all party types (1: first party, 2: support party, 3: third party)\n",
    "df_merged['party_labels'] = df_merged.apply(\n",
    "    lambda row: row.first_party if row.first_party == 1 else support_party(row.target, row.target2, row.netify), axis=1)\n",
    "\n",
    "\n",
    "# todo save results in file\n",
    "# df_merged.to_csv(file_all_party_mapping, index=False)"
   ]
  }
 ],
 "metadata": {
  "kernelspec": {
   "display_name": "Python 3 (ipykernel)",
   "language": "python",
   "name": "python3"
  },
  "language_info": {
   "codemirror_mode": {
    "name": "ipython",
    "version": 3
   },
   "file_extension": ".py",
   "mimetype": "text/x-python",
   "name": "python",
   "nbconvert_exporter": "python",
   "pygments_lexer": "ipython3",
   "version": "3.8.8"
  }
 },
 "nbformat": 4,
 "nbformat_minor": 5
}
