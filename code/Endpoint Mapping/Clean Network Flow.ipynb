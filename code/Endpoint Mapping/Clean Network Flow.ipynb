{
 "cells": [
  {
   "cell_type": "code",
   "execution_count": null,
   "outputs": [],
   "source": [
    "###This script used to clean network flow statistics\n",
    "###removes local communications (with wifi-routers, hubs etc.), DNS/NTP communications, etc. \n",
    "###extracts eTLD+1 or hostnames of remote endpoints\n",
    "###The output of this script is NOT reproducible since we REMOVED all PII's from the input"
   ],
   "metadata": {
    "collapsed": false
   }
  },
  {
   "cell_type": "code",
   "execution_count": null,
   "outputs": [],
   "source": [
    "import pandas as pd     \n",
    "from utils import clean_flow, get_sld\n",
    "\n",
    "# input file names\n",
    "file_iot_devices = '../../Device Identification/IoT_devices_v5.csv'\n",
    "file_flow_stats = \"../../Inspector Dataset/New data/flow_stats_with_ip.parquet\"\n",
    "# output file names\n",
    "file_unique_domains = '../../Endpoint Mapping Data/Domain Data/v5_unique_domains.csv'\n",
    "file_cleaned_flow = '../../Endpoint Mapping Data/Cleaned Flow/cleaned_flow_stat.csv'\n",
    "\n",
    "# get iot devices and read flow data\n",
    "iot_devices = pd.read_csv(file_iot_devices)\n",
    "flow_stat = pd.read_parquet(file_flow_stats)\n",
    "\n",
    "# get iot flow\n",
    "iot_flow = pd.merge(flow_stat, iot_devices, on=['device_id'], how='inner')\n",
    "\n",
    "# remove Local flows, DNS, NTP, etc. and get eTLD+1 or domain\n",
    "clean_flow_stat = clean_flow(iot_flow)\n",
    "hostname_list = clean_flow_stat[['remote_hostname']].drop_duplicates()\n",
    "hostname_list['domain'] = hostname_list.apply(lambda row: get_sld(row.remote_hostname), axis=1)\n",
    "clean_flow_stat = pd.merge(clean_flow_stat, hostname_list, on=['remote_hostname'], how='inner')\n",
    "\n",
    "# exclude domains that is visited by only one device\n",
    "# excludes 6548 domains communicated by less than 3 devices\n",
    "device_count = clean_flow_stat.groupby(['domain'])['device_id'].count().sort_values(ascending=False).reset_index()\n",
    "device_count = device_count[device_count['device_id']>2]\n",
    "device_count = device_count.rename(columns={\"device_id\": \"device_count\"})\n",
    "clean_flow_stat = pd.merge(clean_flow_stat, device_count, on=['domain'], how='inner')\n",
    "\n",
    "# excludes devices communicates more than 100 domains\n",
    "# Only 41 devices excludes from the device list those communicate with more than 100 domains\n",
    "domain_count = clean_flow_stat.groupby(['device_id'])['domain'].nunique().sort_values(ascending=False).reset_index()\n",
    "domain_count = domain_count[(domain_count['domain']<=100)]\n",
    "domain_count = domain_count.rename(columns={\"domain\": \"domain_count\"})\n",
    "clean_flow_stat = pd.merge(clean_flow_stat, domain_count, on=['device_id'], how='inner')\n",
    "\n",
    "# Find unique domains\n",
    "domain_list = clean_flow_stat[['domain']].drop_duplicates()\n",
    "\n",
    "\n",
    "# todo save domain list and flows in file \n",
    "# domain_list.to_csv(file_unique_domains, index=False)\n",
    "# clean_flow_stat.to_csv(file_cleaned_flow, index=False)"
   ],
   "metadata": {
    "collapsed": false
   }
  }
 ],
 "metadata": {
  "kernelspec": {
   "display_name": "Python 3",
   "language": "python",
   "name": "python3"
  },
  "language_info": {
   "codemirror_mode": {
    "name": "ipython",
    "version": 2
   },
   "file_extension": ".py",
   "mimetype": "text/x-python",
   "name": "python",
   "nbconvert_exporter": "python",
   "pygments_lexer": "ipython2",
   "version": "2.7.6"
  }
 },
 "nbformat": 4,
 "nbformat_minor": 0
}
