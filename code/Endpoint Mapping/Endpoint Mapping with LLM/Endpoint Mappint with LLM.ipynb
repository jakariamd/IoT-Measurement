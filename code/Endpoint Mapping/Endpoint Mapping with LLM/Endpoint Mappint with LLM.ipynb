{
 "cells": [
  {
   "cell_type": "code",
   "execution_count": null,
   "outputs": [],
   "source": [
    "# todo you will need an openai text completion api key to complete this task\n",
    "import pandas as pd\n",
    "from utils import map_org_domain\n",
    "\n",
    "\n",
    "# input/output file location \n",
    "input_file_all_party_mappings = '../../../Endpoint Mapping Data/Domain Data/all_party_mapping.csv'\n",
    "output_file_location = '../../../Endpoint Mapping Data/Domain Data/sample_party_mapping_with_chatgpt.csv'\n",
    "\n",
    "# read party mapping file to sample 100 domain-vendor pair\n",
    "domain_to_org = pd.read_csv(input_file_all_party_mappings)\n",
    "\n",
    "# sample 33 first party domain-vendor pair \n",
    "subset_df = domain_to_org[domain_to_org['party_labels'] == 1]\n",
    "sampled_df = subset_df.sample(n=33, replace=False)\n",
    "\n",
    "# sample 33 support party domain-vendor pair \n",
    "subset_df = domain_to_org[domain_to_org['party_labels'] == 2].sample(n=33, replace=False)\n",
    "sampled_df = sampled_df.append(subset_df, ignore_index=True)\n",
    "\n",
    "# sample 34 first party domain-vendor pair \n",
    "subset_df = domain_to_org[domain_to_org['party_labels'] == 3].sample(n=34, replace=False)\n",
    "sampled_df = sampled_df.append(subset_df, ignore_index=True)\n",
    "\n",
    "\n",
    "# use openai chat-gpt to map vendor-domain \n",
    "sampled_df['gpt_result'] = None\n",
    "for index in range(len(sampled_df)):\n",
    "    super_vendor = sampled_df.at[index, 'super_vendor']\n",
    "    domain = sampled_df.at[index, 'domain']\n",
    "    result = map_org_domain(super_vendor, domain)\n",
    "    sampled_df.at[index, 'gpt_result'] = result\n",
    "    \n",
    "# split the response from chat-gpt as classification: explanation \n",
    "for index in range(len(sampled_df)):\n",
    "    gpt_result, gpt_explanation = sampled_df.at[index, 'gpt_result']\n",
    "    # Save the result in the 'result_column'\n",
    "    sampled_df.at[index, 'gpt_result'] = gpt_result\n",
    "    sampled_df.at[index, 'gpt_explanation'] = gpt_explanation\n",
    "\n",
    "\n",
    "# todo results save to file \n",
    "# sampled_df.to_csv(output_file_location, index=False)"
   ],
   "metadata": {
    "collapsed": false
   },
   "id": "a27701b5dbc58b12"
  }
 ],
 "metadata": {
  "kernelspec": {
   "display_name": "Python 3",
   "language": "python",
   "name": "python3"
  },
  "language_info": {
   "codemirror_mode": {
    "name": "ipython",
    "version": 2
   },
   "file_extension": ".py",
   "mimetype": "text/x-python",
   "name": "python",
   "nbconvert_exporter": "python",
   "pygments_lexer": "ipython2",
   "version": "2.7.6"
  }
 },
 "nbformat": 4,
 "nbformat_minor": 5
}
