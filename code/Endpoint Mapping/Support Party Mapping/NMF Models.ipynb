{
 "cells": [
  {
   "cell_type": "code",
   "execution_count": null,
   "outputs": [],
   "source": [
    "import pandas as pd\n",
    "import numpy as np\n",
    "\n",
    "# input/output file locations\n",
    "file_preprocessed_data = '../../../Endpoint Mapping Data/Domain Data/Support Party Mapping/serp_merged_pre_processed.csv'\n",
    "file_target_domains = '../../../Endpoint Mapping Data/Domain Data/v5_unique_domains.csv'\n",
    "file_final_results = '../../../Endpoint Mapping Data/Domain Data/Support Party Mapping/SERP_NMF_RESULTS.csv'\n",
    "\n",
    "# read serp dataset and target domains \n",
    "serp_merged = pd.read_csv(file_preprocessed_data)\n",
    "target_domains = pd.read_csv(file_target_domains)\n",
    "# only keep data for target domains \n",
    "serp_merged = target_domains.merge(serp_merged, on=['domain'], how='left')"
   ],
   "metadata": {
    "collapsed": false
   },
   "id": "a5f8a359c87aff5"
  },
  {
   "cell_type": "markdown",
   "source": [
    "## Extract feature vectors using TF-IDF and create an NMF Model "
   ],
   "metadata": {
    "collapsed": false
   },
   "id": "3267be8f81f09d87"
  },
  {
   "cell_type": "code",
   "execution_count": null,
   "outputs": [],
   "source": [
    "from sklearn.feature_extraction.text import CountVectorizer, TfidfVectorizer\n",
    "vec = TfidfVectorizer(max_features=4000, stop_words=\"english\", max_df=0.95, min_df=2)\n",
    "features = vec.fit_transform(serp_merged['token'].values.astype('U'))\n",
    "\n",
    "## Run Topic model\n",
    "from sklearn.decomposition import NMF\n",
    "n_topics = 30\n",
    "random_state = 0\n",
    "\n",
    "cls = NMF(n_components=n_topics, random_state=random_state, max_iter=600)\n",
    "cls.fit(features)\n",
    "\n",
    "target = cls.transform(vec.transform(serp_merged['token'])).argsort(axis=1)[:,-1] \n",
    "serp_merged['target'] = target"
   ],
   "metadata": {
    "collapsed": false
   },
   "id": "6fe4424c"
  },
  {
   "cell_type": "code",
   "execution_count": null,
   "id": "5a632447",
   "metadata": {},
   "outputs": [],
   "source": [
    "# list of unique words found by the vectorizer\n",
    "# This list is used to create Table 11 in the appendix\n",
    "# also this list is used to manually label clusters shown in Endpoint Mapping Data/Domain Data/Support Party Mapping/Target 1 TF-IDF NMF Clusters.txt\n",
    "\n",
    "feature_names = vec.get_feature_names_out()\n",
    "\n",
    "# number of most influencing words to display per topic\n",
    "n_top_words = 10\n",
    "\n",
    "for i, topic_vec in enumerate(cls.components_):\n",
    "    print(i, '\\t & \\t', end=' ')\n",
    "    top_words = ''\n",
    "    for fid in topic_vec.argsort()[-1:-n_top_words-1:-1]:\n",
    "        # print(feature_names[fid], end=' ')\n",
    "        top_words = top_words + ' ' + feature_names[fid]\n",
    "    print(top_words.ljust(95),  '\\t & \\t'.ljust(5) , '\\\\\\\\')"
   ]
  },
  {
   "cell_type": "markdown",
   "id": "0e1cf4bd",
   "metadata": {},
   "source": [
    "## Extract Feature using Count Feature and create NMF Model "
   ]
  },
  {
   "cell_type": "code",
   "execution_count": null,
   "id": "ba29f0a7",
   "metadata": {},
   "outputs": [],
   "source": [
    "from sklearn.feature_extraction.text import CountVectorizer\n",
    "from sklearn.decomposition import NMF\n",
    "\n",
    "vec2 = CountVectorizer(ngram_range=(1, 2), stop_words=\"english\")\n",
    "features2 = vec2.fit_transform(serp_merged.token)\n",
    "\n",
    "\n",
    "n_topics = 30\n",
    "random_state = 1\n",
    "\n",
    "cls2 = NMF(n_components=n_topics, random_state=random_state, max_iter=300)\n",
    "cls2.fit(features2)\n",
    "\n",
    "target2 = cls2.transform(vec2.transform(serp_merged['token'])).argsort(axis=1)[:,-1] \n",
    "serp_merged['target2'] = target2"
   ]
  },
  {
   "cell_type": "code",
   "execution_count": null,
   "outputs": [],
   "source": [
    "# list of unique words found by the vectorizer\n",
    "# This list is used to create Table 11 in the appendix\n",
    "# also this list is used to manually label clusters shown in Endpoint Mapping Data/Domain Data/Support Party Mapping/Target 2 Count NMF Cluster.txt\n",
    "\n",
    "feature_names = vec2.get_feature_names_out()\n",
    "\n",
    "# number of most influencing words to display per topic\n",
    "n_top_words = 10\n",
    "\n",
    "for i, topic_vec in enumerate(cls2.components_):\n",
    "    print(i, '\\t & \\t', end=' ')\n",
    "    top_words = ''\n",
    "    for fid in topic_vec.argsort()[-1:-n_top_words-1:-1]:\n",
    "        # print(feature_names[fid], end=' ')\n",
    "        top_words = top_words + ' ' + feature_names[fid]\n",
    "    print(top_words.ljust(105),  '\\t & \\t'.ljust(5) , '\\\\\\\\')"
   ],
   "metadata": {
    "collapsed": false
   },
   "id": "7839f7cbfbb3bf3b"
  },
  {
   "cell_type": "code",
   "execution_count": null,
   "outputs": [],
   "source": [
    "## todo Save Final Results\n",
    "# serp_merged.to_csv(file_final_results, index=False)"
   ],
   "metadata": {
    "collapsed": false
   },
   "id": "947f7f0b731b9111"
  }
 ],
 "metadata": {
  "kernelspec": {
   "display_name": "Python 3 (ipykernel)",
   "language": "python",
   "name": "python3"
  },
  "language_info": {
   "codemirror_mode": {
    "name": "ipython",
    "version": 3
   },
   "file_extension": ".py",
   "mimetype": "text/x-python",
   "name": "python",
   "nbconvert_exporter": "python",
   "pygments_lexer": "ipython3",
   "version": "3.8.8"
  }
 },
 "nbformat": 4,
 "nbformat_minor": 5
}
