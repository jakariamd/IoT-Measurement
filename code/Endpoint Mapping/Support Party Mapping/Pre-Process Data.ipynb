{
 "cells": [
  {
   "cell_type": "markdown",
   "id": "790e4f68",
   "metadata": {},
   "source": [
    "### Data Pre-process"
   ]
  },
  {
   "cell_type": "code",
   "execution_count": 1,
   "id": "94fbab3d",
   "metadata": {
    "ExecuteTime": {
     "end_time": "2024-02-29T06:20:54.648495Z",
     "start_time": "2024-02-29T06:20:47.747445400Z"
    }
   },
   "outputs": [],
   "source": [
    "import pandas as pd\n",
    "import json\n",
    "from utils import only_nouns\n",
    "\n",
    "# input/output file location\n",
    "input_file_serp_google = '../../../Endpoint Mapping Data/Domain Data/Support Party Mapping/Google/serp_output_google_combined.json'\n",
    "input_file_serp_bing = '../../../Endpoint Mapping Data/Domain Data/Support Party Mapping/Bing/serp_output_bing_combined.json'\n",
    "output_file_location = '../../../Endpoint Mapping Data/Domain Data/Support Party Mapping/serp_merged_pre_processed.csv'\n",
    "\n",
    "# Load Google SERP data\n",
    "with open(input_file_serp_google, \"r\", encoding='utf-8') as f:\n",
    "    serp_text_combined = json.load(f)  \n",
    "serp_google = pd.DataFrame(list(zip(serp_text_combined.keys(), serp_text_combined.values())), columns=['domain', 'text'])\n",
    "serp_google.rename(columns={'text': 'text_google'}, inplace=True)\n",
    "\n",
    "\n",
    "# Load Bing SERP data\n",
    "with open(input_file_serp_bing, \"r\", encoding='utf-8') as f:\n",
    "    serp_text_combined = json.load(f)\n",
    "serp_bing = pd.DataFrame(list(zip(serp_text_combined.keys(), serp_text_combined.values())), columns=['domain', 'text'])\n",
    "serp_bing.rename(columns={'text': 'text_bing'}, inplace=True)\n",
    "\n",
    "\n",
    "serp_merged = pd.merge(serp_google, serp_bing, on=\"domain\")\n",
    "serp_merged['text'] = serp_merged['text_google'] + serp_merged['text_bing']\n",
    "\n",
    "\n",
    "# todo comment out following line preprocess all entire dataset \n",
    "serp_merged=serp_merged.sample(5)\n",
    "\n",
    "# pre-process text to token \n",
    "serp_merged['token'] = serp_merged.apply(lambda row: only_nouns(row.text), axis=1)\n",
    "\n",
    "# todo save results to file \n",
    "# serp_merged.to_csv(output_file_location, index=False)"
   ]
  }
 ],
 "metadata": {
  "kernelspec": {
   "display_name": "Python 3 (ipykernel)",
   "language": "python",
   "name": "python3"
  },
  "language_info": {
   "codemirror_mode": {
    "name": "ipython",
    "version": 3
   },
   "file_extension": ".py",
   "mimetype": "text/x-python",
   "name": "python",
   "nbconvert_exporter": "python",
   "pygments_lexer": "ipython3",
   "version": "3.8.8"
  }
 },
 "nbformat": 4,
 "nbformat_minor": 5
}
