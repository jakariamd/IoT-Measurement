{
 "cells": [
  {
   "cell_type": "markdown",
   "source": [
    "This script scrape Google SERP to extract relevant information about domains. \n",
    "The first approach is directly scrapping Google SERP using Selenium which may get rate error. \n",
    "The second approach is using an API. This script contains both approach"
   ],
   "metadata": {
    "collapsed": false
   },
   "id": "67ce26f223d07419"
  },
  {
   "cell_type": "markdown",
   "source": [
    "### Approach 1: Using Selenium to scrape Google SERP"
   ],
   "metadata": {
    "collapsed": false
   },
   "id": "dddfcdfe674ba531"
  },
  {
   "cell_type": "code",
   "execution_count": 1,
   "id": "b5512e3f",
   "metadata": {
    "ExecuteTime": {
     "end_time": "2024-02-29T05:21:05.859685300Z",
     "start_time": "2024-02-29T05:20:55.750961600Z"
    }
   },
   "outputs": [
    {
     "name": "stdout",
     "output_type": "stream",
     "text": [
      "Crawled:  articlesvally.com   9\n",
      "Crawled:  huluim.com   9\n",
      "Crawled:  leanplum.com   9\n",
      "Crawled:  freeviewplus.net.au   8\n",
      "Crawled:  yieldoptimizer.com   9\n",
      "{'articlesvally.com': \"ArticlesVally is your one-stop source for smart travelers who desire travel tips and information about fun and exciting destinations around the globe.ArticlesVally is your one-stop source for smart travelers who desire travel tips and information about fun and exciting destinations around the globe.articlesvally.com Ranking by Traffic. Website ranking helps evaluate the value of a business. Over the last three months, articlesvally.com's global ranking has\\xa0...ArticlesVally | Travel Tips & Information · General information · Meta Data Analysis · Rankings · Security & Safety · Geographics · DNS Analysis · SEO Analysis\\xa0...We think articlesvally.com is legit and safe for consumers to access. Scamadviser is an automated algorithm to check if a website is legit and safe (or not).ArticlesVally is your one-stop source for smart travelers who desire travel tips and information about fun and exciting destinations around the globe. Our team\\xa0...ArticlesVally is a brand that serves as a comprehensive resource for smart travelers seeking travel tips and information about exciting destinations\\xa0...Facebook. facebook. ArticlesVally, profile picture. Join. or. Log In ... ArticlesVally, profile picture. ArticlesVally · November 16, 2020 at 8:00 PM ·. Watch\\xa0...south africa's premier site for breaking business and finance news, stock market data, economic analysis, personal finance and investment information. Moz DA:\\xa0...\", 'huluim.com': \"7 days ago — helium (He), chemical element, inert gas of Group 18 (noble gases) of the periodic table. The second lightest element (only hydrogen is lighter)\\xa0...Element Helium (He), Group 18, Atomic Number 2, s-block, Mass 4.003. Sources, facts, uses, scarcity (SRI), podcasts, alchemical symbols, videos and images.Helium is a protective gas in titanium and zirconium production and in growing silicon and germanium crystals. Since helium doesn't become radioactive, it is\\xa0...It is a colorless, odorless, tasteless, non-toxic, inert, monatomic gas and the first in the noble gas group in the periodic table.On the Earth, most helium is a radioactive decay product of uranium and thorium. It is found under the Earth's crust with other natural gases. Commercial helium\\xa0...Helium makes up about 0.0005% of the earth's atmosphere. This trace amount of helium is not gravitationally bound to the earth and is constantly lost to space.Jan 26, 2015 — Helium on Earth is formed when radioactive elements in the crust decay, producing positively charged particles called alpha particles. When\\xa0...The word helium comes from the Greek helios, which means sun! Helium atoms are so light that they are able to escape Earth's gravity!Car/Vehicles: As helium is a very unreactive element, it is used to detect leaks in car air-conditioning systems. It is also used to inflate airbags as helium\\xa0...\", 'leanplum.com': \"Leanplum simplifies multi-channel campaigns to help you achieve engagement and revenue goals. Connect with the right message at the right time on the right\\xa0...Leanplum's engagement platform delivers experiences that are timely, tested, and relevant to the customer — building loyalty that fuels business growth.Leanplum is a versatile platform that has been widely used to streamline marketing campaigns and enhance customer engagement across various industries. Users\\xa0...Leanplum allows mobile teams to go from insight to action quickly using the lean cycle of releasing, analyzing, and optimizing content and messaging.Leanplum is a mobile marketing platform that delivers meaningful engagement across messaging and the in-app experience.The Multichannel Customer Engagement Platform I Leanplum. https://www.leanplum.com. We help mobile teams orchestrate multi-channel campaigns —\\xa0...For app-first companies, Leanplum is the only solution that helps personalize and optimize all customer touchpoints, both inside and outside the app.Leanplum truly is a one-stop-shop for mobile engagement. They have top-notch CRM capabilities with the ability to build journeys across all mobile channels,\\xa0...Services to Help You Achieve Business Goals with Leanplum · Activation Services · Customer Success · Technical Support · Professional Services · Online Help\\xa0...\", 'freeviewplus.net.au': \"Feb 24, 2020 — Freeview Plus is a television service that allows a user to view most television content in one place. All the Australian free-to-air (FTA) TV\\xa0...Nov 18, 2022 — It simply groups all free-to-air catch-up content in 1 place so you don't have to swap between multiple apps to browse the entire entertainment\\xa0...A Freeview compliant device will display all digital television channels broadcast in a viewer's market area, including those broadcast in high definition.Freeview is an always-on application that is on your TV when you turn it on, you can access Freeview via your TV remote when viewing LIVE TV and enables you to\\xa0...With Freeview, you can watch, search & discover all of your favourite free to air TV shows from the ABC, SBS, 7, 9 & 10 live or On Demand via ABC iview\\xa0...Launched back in 2008, Freeview began as a service that aggregates all free-to-air TV content into one place for Australians. It now includes more channels and\\xa0...Dec 8, 2015 — In simpler terms, it is basically a mixture of digital free-to-air broadcasting and IPTV through a set top box, broadband connection and\\xa0...Freeview Plus provides additional services such as: · Recording shows via Freeview Plus enabled set top boxes · Catch up services from broadcaster Apps · TV guide\\xa0...\", 'yieldoptimizer.com': \"Collect and structure first-party data without cookies, cross-domain scripts, or device IDs. Use your account API or our Zapier integration to send data to any\\xa0...Better is a Safari content blocker for iPhone, iPad, and Mac. It protects you from trackers and malvertising by enforcing the principles of Ethical Design.HTTPS Everywhere currently rewrites requests to yieldoptimizer.com (or its subdomains). Embedded content loaded from third-party domains (for example, YouTube,\\xa0...Automatically replace broken forms. Capture data in real time from any local or third-party form.AppNexus is a company that provides technology, data and analytics to help companies buy and sell online display advertising.Part of a comprehensive next-level data management portfolio, Yield Optimizer software reimagines manufacturing line control and analytics to explore the impact\\xa0...Yield optimization can be loosely defined as using data analysis and optimization techniques to maximize performance and revenue. In DeFi, this\\xa0...Its advanced yield optimizer finds ideal demand avenues while focusing on providing maximum fill rates and revenue for your ad inventory.Adara's (a RateGain company) official domains are limited to the following two addresses: adara.com and rategain.com. Any other domain variations or addresses\\xa0...\"}\n"
     ]
    }
   ],
   "source": [
    "import json\n",
    "import pandas as pd\n",
    "from utils import google_search\n",
    "\n",
    "# input/output file locations\n",
    "input_file = '../../../Endpoint Mapping Data/Domain Data/v5_unique_domains.csv'\n",
    "output_file_location = '../../../Endpoint Mapping Data/Domain Data/Support Party Mapping/Google/serp_output_google_combined.json'\n",
    "\n",
    "\n",
    "# read file\n",
    "remote_hostname = pd.read_csv(input_file)\n",
    "\n",
    "# todo comment out following line if you want to scrape information for all domains \n",
    "remote_hostname=remote_hostname.sample(5)\n",
    "\n",
    "# scrapping Google SERP\n",
    "serp_output = {}\n",
    "for url in remote_hostname['domain']:\n",
    "    results = google_search(\"what is \" + url)\n",
    "    serp_output[url] = results\n",
    "    print('Crawled: ', url, \" \", len(results))\n",
    "\n",
    "# combine scraped results \n",
    "serp_text_combined = {}\n",
    "for key in serp_output.keys():\n",
    "    text = ''\n",
    "    for serp_res in serp_output[key]:\n",
    "        text = text + serp_res['text']\n",
    "    serp_text_combined[key] = text\n",
    "\n",
    "# todo save in file \n",
    "# with open(output_file_location, 'w', encoding='utf-8') as f:\n",
    "#     json.dump(serp_text_combined, f, ensure_ascii=False, indent=4)\n",
    "\n",
    "print(serp_text_combined)"
   ]
  },
  {
   "cell_type": "markdown",
   "id": "d14d8bd3",
   "metadata": {},
   "source": [
    "### Approach 2: Using API to scrape Google SERP"
   ]
  },
  {
   "cell_type": "code",
   "execution_count": null,
   "outputs": [],
   "source": [
    "import requests\n",
    "import json\n",
    "\n",
    "API_KEY = \"YOUR valueserp.com KEY\"\n",
    "\n",
    "def extract_result(organic_results):\n",
    "    output = []\n",
    "    for result in organic_results:\n",
    "        try:\n",
    "            item = {\n",
    "                'title': result['title'],\n",
    "                'link': result['link'],\n",
    "                'text': result['snippet']\n",
    "            }\n",
    "            output.append(item)\n",
    "        except:\n",
    "             None\n",
    "\n",
    "    return output\n",
    "\n",
    "\n",
    "serp_output = {}\n",
    "number = 1\n",
    "\n",
    "# make the http GET request to VALUE SERP\n",
    "for url in remote_hostname['domain']:\n",
    "    query = \"what is \" + url\n",
    "    params = {'api_key': API_KEY,'q': query}\n",
    "    api_result = requests.get('https://api.valueserp.com/search', params)\n",
    "    organic_results = api_result.json()['organic_results']\n",
    "    results = extract_result(organic_results)\n",
    "    serp_output[url] = results\n",
    "    \n",
    "    print(number, 'crawled: ', url, \" \", len(results))\n",
    "    number=number+1\n",
    "\n",
    "\n",
    "# save result in file \n",
    "output_file_location = '../../../Endpoint Mapping Data/Domain Data/Support Party Mapping/Google/serp_output_google_combined.json'\n",
    "# todo uncomment to save in file \n",
    "# with open(output_file_location, 'w', encoding='utf-8') as f:\n",
    "#     json.dump(serp_output, f, ensure_ascii=False, indent=4)\n",
    "\n",
    "print(serp_output)"
   ],
   "metadata": {
    "collapsed": false
   },
   "id": "986641a69b1f6fb8"
  }
 ],
 "metadata": {
  "kernelspec": {
   "display_name": "Python 3 (ipykernel)",
   "language": "python",
   "name": "python3"
  },
  "language_info": {
   "codemirror_mode": {
    "name": "ipython",
    "version": 3
   },
   "file_extension": ".py",
   "mimetype": "text/x-python",
   "name": "python",
   "nbconvert_exporter": "python",
   "pygments_lexer": "ipython3",
   "version": "3.8.8"
  }
 },
 "nbformat": 4,
 "nbformat_minor": 5
}
