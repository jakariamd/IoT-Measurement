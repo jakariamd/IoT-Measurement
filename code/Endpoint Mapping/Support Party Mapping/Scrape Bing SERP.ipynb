{
 "cells": [
  {
   "cell_type": "markdown",
   "source": [
    "##This script scrape Bing SERP to extract relevant information about domains. "
   ],
   "metadata": {
    "collapsed": false
   },
   "id": "e88260e22a58d481"
  },
  {
   "cell_type": "code",
   "execution_count": null,
   "id": "82321771",
   "metadata": {},
   "outputs": [],
   "source": [
    "import pandas as pd\n",
    "from utils import bing_search\n",
    "import json\n",
    "\n",
    "# file location\n",
    "input_file = '../../../Endpoint Mapping Data/Domain Data/v5_unique_domains.csv'\n",
    "\n",
    "output_file = '../../../Endpoint Mapping Data/Domain Data/Support Party Mapping/Bing/serp_output_bing_combined.json'\n",
    "\n",
    "\n",
    "# read file \n",
    "remote_hostname = pd.read_csv(input_file)\n",
    "\n",
    "# todo comment out following line if you want to scrape information for all domains \n",
    "remote_hostname=remote_hostname.sample(5)\n",
    "\n",
    "serp_output = {}\n",
    "for url in remote_hostname['domain']:\n",
    "    results = bing_search(\"what is \" + url)\n",
    "    serp_output[url] = results\n",
    "    print('Crawled: ', url, \" \", len(results))\n",
    "\n",
    "\n",
    "serp_text_combined = {}\n",
    "for key in serp_output.keys():\n",
    "    text = ''\n",
    "    for serp_res in serp_output[key]:\n",
    "        text = text + serp_res['text']\n",
    "    serp_text_combined[key] = text\n",
    "\n",
    "\n",
    "# todo save to file \n",
    "# with open(output_file, 'w', encoding='utf-8') as f:\n",
    "#     json.dump(serp_text_combined, f, ensure_ascii=False, indent=4)\n",
    "\n",
    "print(serp_text_combined)"
   ]
  }
 ],
 "metadata": {
  "kernelspec": {
   "display_name": "Python 3 (ipykernel)",
   "language": "python",
   "name": "python3"
  },
  "language_info": {
   "codemirror_mode": {
    "name": "ipython",
    "version": 3
   },
   "file_extension": ".py",
   "mimetype": "text/x-python",
   "name": "python",
   "nbconvert_exporter": "python",
   "pygments_lexer": "ipython3",
   "version": "3.8.8"
  }
 },
 "nbformat": 4,
 "nbformat_minor": 5
}
