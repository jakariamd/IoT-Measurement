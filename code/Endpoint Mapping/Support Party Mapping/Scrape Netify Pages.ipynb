{
 "cells": [
  {
   "cell_type": "code",
   "execution_count": null,
   "outputs": [],
   "source": [
    "import pandas as pd\n",
    "\n",
    "# input/output file locations\n",
    "file_netify_result = \"../../../Endpoint Mapping Data/Domain Data/First Party Mapping/netify_search_domain2org.csv\"\n",
    "\n",
    "output_netify_result = '../../../Endpoint Mapping Data/Domain Data/Support Party Mapping/netify_support_party.csv'\n",
    "\n",
    "# Load data from Netify.ai\n",
    "netify_result = pd.read_csv(file_netify_result)\n",
    "\n",
    "\n",
    "netify_result = netify_result[(netify_result['service_name']=='CDN') | \n",
    "                              (netify_result['service_name']=='Hosting') | \n",
    "                              (netify_result['service_name']=='Device/IoT')][\n",
    "                            ['org_name','remote_hostname']].drop_duplicates()\n",
    "\n",
    "\n",
    "print(netify_result.sample(5))\n",
    "\n",
    "# todo save in file \n",
    "# netify_result.to_csv(output_netify_result, index=False)"
   ],
   "metadata": {
    "collapsed": false
   }
  }
 ],
 "metadata": {
  "kernelspec": {
   "display_name": "Python 3",
   "language": "python",
   "name": "python3"
  },
  "language_info": {
   "codemirror_mode": {
    "name": "ipython",
    "version": 2
   },
   "file_extension": ".py",
   "mimetype": "text/x-python",
   "name": "python",
   "nbconvert_exporter": "python",
   "pygments_lexer": "ipython2",
   "version": "2.7.6"
  }
 },
 "nbformat": 4,
 "nbformat_minor": 0
}
