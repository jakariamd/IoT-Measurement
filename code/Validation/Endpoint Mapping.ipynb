{
 "cells": [
  {
   "cell_type": "code",
   "execution_count": null,
   "id": "adb5f0ff",
   "metadata": {},
   "outputs": [],
   "source": [
    "import pandas as pd\n",
    "\n",
    "# load mapping file\n",
    "file_party_labels = '../../Endpoint Mapping Data/Domain Data/all_party_mapping.csv'\n",
    "party_labels = pd.read_csv(file_party_labels)\n",
    "\n",
    "\n",
    "# sample 100 vendor domain pair from each endpoint type \n",
    "first_party_labels = party_labels[party_labels['party_labels']==1][['super_vendor', 'domain']].sample(100)\n",
    "support_party_labels = party_labels[party_labels['party_labels']==2][['super_vendor', 'domain']].sample(100)\n",
    "third_party_labels = party_labels[party_labels['party_labels']==3][['super_vendor', 'domain']].sample(100)\n",
    "\n",
    "# todo save to file for manual validation \n",
    "# first_party_labels.to_csv('../../Validation Data/Endpoint Mapping/first_party_labels.csv', index=False)\n",
    "# support_party_labels.to_csv('../../Validation Data/Endpoint Mapping/support_party_labels.csv', index=False)\n",
    "# third_party_labels.to_csv('../../Validation Data/Endpoint Mapping/third_party_labels.csv', index=False)"
   ]
  }
 ],
 "metadata": {
  "kernelspec": {
   "display_name": "Python 3 (ipykernel)",
   "language": "python",
   "name": "python3"
  },
  "language_info": {
   "codemirror_mode": {
    "name": "ipython",
    "version": 3
   },
   "file_extension": ".py",
   "mimetype": "text/x-python",
   "name": "python",
   "nbconvert_exporter": "python",
   "pygments_lexer": "ipython3",
   "version": "3.8.8"
  }
 },
 "nbformat": 4,
 "nbformat_minor": 5
}
