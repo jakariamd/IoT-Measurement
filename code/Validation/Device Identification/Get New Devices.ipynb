{
 "cells": [
  {
   "cell_type": "code",
   "execution_count": null,
   "outputs": [],
   "source": [
    "import pandas as pd\n",
    "\n",
    "# load files \n",
    "file_UNSW_devices = '../../../Validation Data/UNSW/gpt-clean-updated.csv'\n",
    "UNSW_devices = pd.read_csv(file_UNSW_devices)\n",
    "UNSW_devices = UNSW_devices[['gpt_clean_vendor', 'gpt_clean_type']]\n",
    "\n",
    "file_YourThings_devices = '../../../Validation Data/YourThings/gpt-clean.csv'\n",
    "YourThings_devices = pd.read_csv(file_YourThings_devices)\n",
    "YourThings_devices = YourThings_devices[['gpt_clean_vendor', 'gpt_clean_type']]\n",
    "\n",
    "# load GPT Identified Devices of Iot-Inspector dataset \n",
    "gpt_device_category_merged = pd.read_csv('../../../Device Identification/Device Category Mapping/gpt_device_id_generic_category.csv')[['gpt_clean_vendor', 'gpt_clean_type']]\n",
    "\n",
    "\n",
    "## Find newly discovered device in UNSW dataset \n",
    "\n",
    "# Merge DataFrames and add an indicator column\n",
    "merged_df = pd.merge(UNSW_devices, gpt_device_category_merged, how='outer', indicator=True)\n",
    "# Filter rows that are only in the left DataFrame (new rows in df1)\n",
    "new_rows_UNSW = merged_df[merged_df['_merge'] == 'left_only']\n",
    "# Display the result\n",
    "print(\"UNSW Dataset\")\n",
    "print(new_rows_UNSW)\n",
    "\n",
    "\n",
    "## Find newly discovered device in Yourthings dataset \n",
    "\n",
    "# Merge DataFrames and add an indicator column\n",
    "merged_df = pd.merge(YourThings_devices, gpt_device_category_merged, how='outer', indicator=True)\n",
    "# Filter rows that are only in the left DataFrame (new rows in df1)\n",
    "new_rows_UNSW = merged_df[merged_df['_merge'] == 'left_only']\n",
    "# Display the result\n",
    "print(\"Yourthings Dataset\")\n",
    "print(new_rows_UNSW)"
   ],
   "metadata": {
    "collapsed": false
   },
   "id": "717af85c13e53a0d"
  }
 ],
 "metadata": {
  "kernelspec": {
   "display_name": "Python 3",
   "language": "python",
   "name": "python3"
  },
  "language_info": {
   "codemirror_mode": {
    "name": "ipython",
    "version": 2
   },
   "file_extension": ".py",
   "mimetype": "text/x-python",
   "name": "python",
   "nbconvert_exporter": "python",
   "pygments_lexer": "ipython2",
   "version": "2.7.6"
  }
 },
 "nbformat": 4,
 "nbformat_minor": 5
}
