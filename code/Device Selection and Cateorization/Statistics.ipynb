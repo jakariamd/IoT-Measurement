{
 "cells": [
  {
   "cell_type": "code",
   "execution_count": 3,
   "metadata": {
    "collapsed": true,
    "ExecuteTime": {
     "end_time": "2024-02-29T19:31:50.525388500Z",
     "start_time": "2024-02-29T19:31:50.284455700Z"
    }
   },
   "outputs": [
    {
     "name": "stdout",
     "output_type": "stream",
     "text": [
      "generic_category\n",
      "Game Console       1\n",
      "Generic IoT        1\n",
      "Home Appliance     1\n",
      "Home Automation    1\n",
      "Media/TV           1\n",
      "Surveillance       1\n",
      "Voice Assistant    1\n",
      "Work Appliance     1\n",
      "Name: device_id, dtype: int64\n"
     ]
    }
   ],
   "source": [
    "# todo NOTE: this script does not reproduce original result since we removed device IDs\n",
    "\n",
    "import pandas as pd\n",
    "\n",
    "# read target device file \n",
    "file_target_iot_devices = '../../Device Identification/IoT_devices_v5.csv'\n",
    "target_iot_devices = pd.read_csv(file_target_iot_devices)\n",
    "\n",
    "# get generic category\n",
    "target_iot_devices['generic_category'] = target_iot_devices.apply(lambda row: row.man_generic_category if not pd.isna(row.man_generic_category) else row.gpt_generic_category, axis=1)\n",
    "# print statistics of IoT devices (table 3)\n",
    "print(target_iot_devices.groupby('generic_category')['device_id'].nunique())"
   ]
  }
 ],
 "metadata": {
  "kernelspec": {
   "display_name": "Python 3",
   "language": "python",
   "name": "python3"
  },
  "language_info": {
   "codemirror_mode": {
    "name": "ipython",
    "version": 2
   },
   "file_extension": ".py",
   "mimetype": "text/x-python",
   "name": "python",
   "nbconvert_exporter": "python",
   "pygments_lexer": "ipython2",
   "version": "2.7.6"
  }
 },
 "nbformat": 4,
 "nbformat_minor": 0
}
